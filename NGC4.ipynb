{
  "nbformat": 4,
  "nbformat_minor": 0,
  "metadata": {
    "colab": {
      "provenance": []
    },
    "kernelspec": {
      "name": "python3",
      "display_name": "Python 3"
    },
    "language_info": {
      "name": "python"
    }
  },
  "cells": [
    {
      "cell_type": "code",
      "execution_count": 1,
      "metadata": {
        "id": "yw94d0cTlz-k"
      },
      "outputs": [],
      "source": [
        "import numpy as np"
      ]
    },
    {
      "cell_type": "markdown",
      "source": [
        "1. Buatlah vektor di bawah ini dengan Python:\n",
        "[17,22,19]\n"
      ],
      "metadata": {
        "id": "xssFMwXsmG1T"
      }
    },
    {
      "cell_type": "code",
      "source": [
        "a = np.array([17,22,19])\n",
        "a"
      ],
      "metadata": {
        "colab": {
          "base_uri": "https://localhost:8080/"
        },
        "id": "7I0LU6u0mDVf",
        "outputId": "cdd443dd-bba3-403b-a129-9c6b833ae84d"
      },
      "execution_count": 3,
      "outputs": [
        {
          "output_type": "execute_result",
          "data": {
            "text/plain": [
              "array([17, 22, 19])"
            ]
          },
          "metadata": {},
          "execution_count": 3
        }
      ]
    },
    {
      "cell_type": "markdown",
      "source": [
        "2. Diberikan 3 buah vector 3 dimensi: a = [17,22,19], b = [10,20,11],c = [5,12,9]. Hitunglah:\n",
        "  -A+B\n",
        "  -B-C\n",
        "  -A dot C\n",
        "  -A x B\n",
        "  -norm A\n",
        "  -Sudut antara vektor a dan b\n"
      ],
      "metadata": {
        "id": "lDeSgO7EmlMH"
      }
    },
    {
      "cell_type": "code",
      "source": [
        "a = np.array([17,22,19])\n",
        "b = np.array([10,20,11])\n",
        "c = np.array([5,12,9])"
      ],
      "metadata": {
        "id": "hwuL3e0enb0k"
      },
      "execution_count": 4,
      "outputs": []
    },
    {
      "cell_type": "code",
      "source": [
        "a + b"
      ],
      "metadata": {
        "colab": {
          "base_uri": "https://localhost:8080/"
        },
        "id": "4dL5H9yBnxPM",
        "outputId": "f5631049-2c4a-4af8-c37b-24fc5ffa9cd0"
      },
      "execution_count": 5,
      "outputs": [
        {
          "output_type": "execute_result",
          "data": {
            "text/plain": [
              "array([27, 42, 30])"
            ]
          },
          "metadata": {},
          "execution_count": 5
        }
      ]
    },
    {
      "cell_type": "code",
      "source": [
        "b - c"
      ],
      "metadata": {
        "colab": {
          "base_uri": "https://localhost:8080/"
        },
        "id": "nnxhnfabn1Ok",
        "outputId": "12d94a82-2897-478c-9762-0ffbdb94a393"
      },
      "execution_count": 6,
      "outputs": [
        {
          "output_type": "execute_result",
          "data": {
            "text/plain": [
              "array([5, 8, 2])"
            ]
          },
          "metadata": {},
          "execution_count": 6
        }
      ]
    },
    {
      "cell_type": "code",
      "source": [
        "a.dot(c)"
      ],
      "metadata": {
        "colab": {
          "base_uri": "https://localhost:8080/"
        },
        "id": "Fh61IKbzn-QR",
        "outputId": "3cef1abb-abbc-47eb-eeb7-7db11edc65a0"
      },
      "execution_count": 7,
      "outputs": [
        {
          "output_type": "execute_result",
          "data": {
            "text/plain": [
              "520"
            ]
          },
          "metadata": {},
          "execution_count": 7
        }
      ]
    },
    {
      "cell_type": "code",
      "source": [
        "a * b"
      ],
      "metadata": {
        "colab": {
          "base_uri": "https://localhost:8080/"
        },
        "id": "eRLtwI-yoKow",
        "outputId": "70be5f65-eb2b-4200-a931-f73bc30e9693"
      },
      "execution_count": 8,
      "outputs": [
        {
          "output_type": "execute_result",
          "data": {
            "text/plain": [
              "array([170, 440, 209])"
            ]
          },
          "metadata": {},
          "execution_count": 8
        }
      ]
    },
    {
      "cell_type": "code",
      "source": [
        "norm_a = np.linalg.norm(a)\n",
        "norm_a"
      ],
      "metadata": {
        "colab": {
          "base_uri": "https://localhost:8080/"
        },
        "id": "y6ZSRaU_oNLW",
        "outputId": "8fda845f-9a87-4b73-ac6c-d25ac47fb4db"
      },
      "execution_count": 10,
      "outputs": [
        {
          "output_type": "execute_result",
          "data": {
            "text/plain": [
              "33.67491648096547"
            ]
          },
          "metadata": {},
          "execution_count": 10
        }
      ]
    },
    {
      "cell_type": "code",
      "source": [
        "cos_theta = a.dot(b)/(np.linalg.norm(a) * np.linalg.norm(b))\n",
        "cos_theta"
      ],
      "metadata": {
        "colab": {
          "base_uri": "https://localhost:8080/"
        },
        "id": "vChS3cP3ocTF",
        "outputId": "1c3a3a40-5103-4e48-eb14-2c87f8afba17"
      },
      "execution_count": 12,
      "outputs": [
        {
          "output_type": "execute_result",
          "data": {
            "text/plain": [
              "0.9759590023331435"
            ]
          },
          "metadata": {},
          "execution_count": 12
        }
      ]
    },
    {
      "cell_type": "code",
      "source": [
        "radian = np.arccos(cos_theta)\n",
        "sudut = np.degrees(radian)\n",
        "sudut"
      ],
      "metadata": {
        "colab": {
          "base_uri": "https://localhost:8080/"
        },
        "id": "6kDb9S41pBFu",
        "outputId": "3a6f311e-0497-422f-b047-4bc46ecd681c"
      },
      "execution_count": 13,
      "outputs": [
        {
          "output_type": "execute_result",
          "data": {
            "text/plain": [
              "12.588900662180242"
            ]
          },
          "metadata": {},
          "execution_count": 13
        }
      ]
    },
    {
      "cell_type": "markdown",
      "source": [
        "3. Buatlah plot dari vector berikut ini ke dalam bidang 2D :\n",
        "  u = [2,5], v =[3,1]\n"
      ],
      "metadata": {
        "id": "ysc8lcghpyU7"
      }
    },
    {
      "cell_type": "code",
      "source": [
        "import matplotlib.pyplot as plt"
      ],
      "metadata": {
        "id": "UQTlRXzBre9S"
      },
      "execution_count": 16,
      "outputs": []
    },
    {
      "cell_type": "code",
      "source": [
        "u = np.array([2,5])\n",
        "v = np.array([3,1])"
      ],
      "metadata": {
        "id": "HZWG-UomqJ9j"
      },
      "execution_count": 17,
      "outputs": []
    },
    {
      "cell_type": "code",
      "source": [
        "def plotvector2D(vector2d, origin=[0, 0], **options):\n",
        "    return plt.arrow(origin[0], origin[1], vector2d[0], vector2d[1],\n",
        "              head_width=0.2, head_length=0.3, length_includes_head=True,\n",
        "              **options)"
      ],
      "metadata": {
        "id": "Ee2xpK1kqXRq"
      },
      "execution_count": 18,
      "outputs": []
    },
    {
      "cell_type": "code",
      "source": [
        "plotvector2D(u , color = 'r')\n",
        "plotvector2D(v , color = 'g')\n",
        "plt.axis([0,6,0,6])\n",
        "plt.grid()\n",
        "plt.show()"
      ],
      "metadata": {
        "colab": {
          "base_uri": "https://localhost:8080/",
          "height": 435
        },
        "id": "ieKYGGRwq1Xv",
        "outputId": "e911f49d-cf31-40fa-9b57-ed2ff3ff3ed0"
      },
      "execution_count": 20,
      "outputs": [
        {
          "output_type": "display_data",
          "data": {
            "text/plain": [
              "<Figure size 640x480 with 1 Axes>"
            ],
            "image/png": "[encoded data removed]"
          },
          "metadata": {}
        }
      ]
    }
  ]
}